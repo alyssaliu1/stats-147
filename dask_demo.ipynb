{
 "cells": [
  {
   "cell_type": "code",
   "execution_count": 1,
   "metadata": {},
   "outputs": [],
   "source": [
    "import dask.array as da\n",
    "import numpy as np\n",
    "import dask.dataframe as dd\n",
    "import pandas as pd\n",
    "import time"
   ]
  },
  {
   "cell_type": "code",
   "execution_count": 3,
   "metadata": {},
   "outputs": [
    {
     "ename": "",
     "evalue": "",
     "output_type": "error",
     "traceback": [
      "\u001b[1;31mThe Kernel crashed while executing code in the current cell or a previous cell. \n",
      "\u001b[1;31mPlease review the code in the cell(s) to identify a possible cause of the failure. \n",
      "\u001b[1;31mClick <a href='https://aka.ms/vscodeJupyterKernelCrash'>here</a> for more info. \n",
      "\u001b[1;31mView Jupyter <a href='command:jupyter.viewOutput'>log</a> for further details."
     ]
    }
   ],
   "source": [
    "# numpy attempt\n",
    "\n",
    "temp = np.ones([10000, 10000, 10000])\n",
    "temp"
   ]
  },
  {
   "cell_type": "code",
   "execution_count": 3,
   "metadata": {},
   "outputs": [
    {
     "data": {
      "text/html": [
       "<table>\n",
       "    <tr>\n",
       "        <td>\n",
       "            <table style=\"border-collapse: collapse;\">\n",
       "                <thead>\n",
       "                    <tr>\n",
       "                        <td> </td>\n",
       "                        <th> Array </th>\n",
       "                        <th> Chunk </th>\n",
       "                    </tr>\n",
       "                </thead>\n",
       "                <tbody>\n",
       "                    \n",
       "                    <tr>\n",
       "                        <th> Bytes </th>\n",
       "                        <td> 7.28 TiB </td>\n",
       "                        <td> 126.51 MiB </td>\n",
       "                    </tr>\n",
       "                    \n",
       "                    <tr>\n",
       "                        <th> Shape </th>\n",
       "                        <td> (10000, 10000, 10000) </td>\n",
       "                        <td> (255, 255, 255) </td>\n",
       "                    </tr>\n",
       "                    <tr>\n",
       "                        <th> Dask graph </th>\n",
       "                        <td colspan=\"2\"> 64000 chunks in 1 graph layer </td>\n",
       "                    </tr>\n",
       "                    <tr>\n",
       "                        <th> Data type </th>\n",
       "                        <td colspan=\"2\"> float64 numpy.ndarray </td>\n",
       "                    </tr>\n",
       "                </tbody>\n",
       "            </table>\n",
       "        </td>\n",
       "        <td>\n",
       "        <svg width=\"250\" height=\"240\" style=\"stroke:rgb(0,0,0);stroke-width:1\" >\n",
       "\n",
       "  <!-- Horizontal lines -->\n",
       "  <line x1=\"10\" y1=\"0\" x2=\"80\" y2=\"70\" style=\"stroke-width:2\" />\n",
       "  <line x1=\"10\" y1=\"6\" x2=\"80\" y2=\"76\" />\n",
       "  <line x1=\"10\" y1=\"12\" x2=\"80\" y2=\"82\" />\n",
       "  <line x1=\"10\" y1=\"18\" x2=\"80\" y2=\"88\" />\n",
       "  <line x1=\"10\" y1=\"24\" x2=\"80\" y2=\"95\" />\n",
       "  <line x1=\"10\" y1=\"30\" x2=\"80\" y2=\"101\" />\n",
       "  <line x1=\"10\" y1=\"36\" x2=\"80\" y2=\"107\" />\n",
       "  <line x1=\"10\" y1=\"42\" x2=\"80\" y2=\"113\" />\n",
       "  <line x1=\"10\" y1=\"48\" x2=\"80\" y2=\"119\" />\n",
       "  <line x1=\"10\" y1=\"55\" x2=\"80\" y2=\"125\" />\n",
       "  <line x1=\"10\" y1=\"64\" x2=\"80\" y2=\"134\" />\n",
       "  <line x1=\"10\" y1=\"70\" x2=\"80\" y2=\"140\" />\n",
       "  <line x1=\"10\" y1=\"76\" x2=\"80\" y2=\"147\" />\n",
       "  <line x1=\"10\" y1=\"82\" x2=\"80\" y2=\"153\" />\n",
       "  <line x1=\"10\" y1=\"88\" x2=\"80\" y2=\"159\" />\n",
       "  <line x1=\"10\" y1=\"94\" x2=\"80\" y2=\"165\" />\n",
       "  <line x1=\"10\" y1=\"100\" x2=\"80\" y2=\"171\" />\n",
       "  <line x1=\"10\" y1=\"107\" x2=\"80\" y2=\"177\" />\n",
       "  <line x1=\"10\" y1=\"113\" x2=\"80\" y2=\"183\" />\n",
       "  <line x1=\"10\" y1=\"120\" x2=\"80\" y2=\"190\" style=\"stroke-width:2\" />\n",
       "\n",
       "  <!-- Vertical lines -->\n",
       "  <line x1=\"10\" y1=\"0\" x2=\"10\" y2=\"120\" style=\"stroke-width:2\" />\n",
       "  <line x1=\"13\" y1=\"3\" x2=\"13\" y2=\"123\" />\n",
       "  <line x1=\"17\" y1=\"7\" x2=\"17\" y2=\"127\" />\n",
       "  <line x1=\"20\" y1=\"10\" x2=\"20\" y2=\"130\" />\n",
       "  <line x1=\"24\" y1=\"14\" x2=\"24\" y2=\"134\" />\n",
       "  <line x1=\"28\" y1=\"18\" x2=\"28\" y2=\"138\" />\n",
       "  <line x1=\"31\" y1=\"21\" x2=\"31\" y2=\"141\" />\n",
       "  <line x1=\"35\" y1=\"25\" x2=\"35\" y2=\"145\" />\n",
       "  <line x1=\"38\" y1=\"28\" x2=\"38\" y2=\"148\" />\n",
       "  <line x1=\"42\" y1=\"32\" x2=\"42\" y2=\"152\" />\n",
       "  <line x1=\"47\" y1=\"37\" x2=\"47\" y2=\"157\" />\n",
       "  <line x1=\"51\" y1=\"41\" x2=\"51\" y2=\"161\" />\n",
       "  <line x1=\"55\" y1=\"45\" x2=\"55\" y2=\"165\" />\n",
       "  <line x1=\"58\" y1=\"48\" x2=\"58\" y2=\"168\" />\n",
       "  <line x1=\"62\" y1=\"52\" x2=\"62\" y2=\"172\" />\n",
       "  <line x1=\"65\" y1=\"55\" x2=\"65\" y2=\"175\" />\n",
       "  <line x1=\"69\" y1=\"59\" x2=\"69\" y2=\"179\" />\n",
       "  <line x1=\"73\" y1=\"63\" x2=\"73\" y2=\"183\" />\n",
       "  <line x1=\"76\" y1=\"66\" x2=\"76\" y2=\"186\" />\n",
       "  <line x1=\"80\" y1=\"70\" x2=\"80\" y2=\"190\" style=\"stroke-width:2\" />\n",
       "\n",
       "  <!-- Colored Rectangle -->\n",
       "  <polygon points=\"10.0,0.0 80.58823529411765,70.58823529411765 80.58823529411765,190.58823529411765 10.0,120.0\" style=\"fill:#8B4903A0;stroke-width:0\"/>\n",
       "\n",
       "  <!-- Horizontal lines -->\n",
       "  <line x1=\"10\" y1=\"0\" x2=\"130\" y2=\"0\" style=\"stroke-width:2\" />\n",
       "  <line x1=\"13\" y1=\"3\" x2=\"133\" y2=\"3\" />\n",
       "  <line x1=\"17\" y1=\"7\" x2=\"137\" y2=\"7\" />\n",
       "  <line x1=\"20\" y1=\"10\" x2=\"140\" y2=\"10\" />\n",
       "  <line x1=\"24\" y1=\"14\" x2=\"144\" y2=\"14\" />\n",
       "  <line x1=\"28\" y1=\"18\" x2=\"148\" y2=\"18\" />\n",
       "  <line x1=\"31\" y1=\"21\" x2=\"151\" y2=\"21\" />\n",
       "  <line x1=\"35\" y1=\"25\" x2=\"155\" y2=\"25\" />\n",
       "  <line x1=\"38\" y1=\"28\" x2=\"158\" y2=\"28\" />\n",
       "  <line x1=\"42\" y1=\"32\" x2=\"162\" y2=\"32\" />\n",
       "  <line x1=\"47\" y1=\"37\" x2=\"167\" y2=\"37\" />\n",
       "  <line x1=\"51\" y1=\"41\" x2=\"171\" y2=\"41\" />\n",
       "  <line x1=\"55\" y1=\"45\" x2=\"175\" y2=\"45\" />\n",
       "  <line x1=\"58\" y1=\"48\" x2=\"178\" y2=\"48\" />\n",
       "  <line x1=\"62\" y1=\"52\" x2=\"182\" y2=\"52\" />\n",
       "  <line x1=\"65\" y1=\"55\" x2=\"185\" y2=\"55\" />\n",
       "  <line x1=\"69\" y1=\"59\" x2=\"189\" y2=\"59\" />\n",
       "  <line x1=\"73\" y1=\"63\" x2=\"193\" y2=\"63\" />\n",
       "  <line x1=\"76\" y1=\"66\" x2=\"196\" y2=\"66\" />\n",
       "  <line x1=\"80\" y1=\"70\" x2=\"200\" y2=\"70\" style=\"stroke-width:2\" />\n",
       "\n",
       "  <!-- Vertical lines -->\n",
       "  <line x1=\"10\" y1=\"0\" x2=\"80\" y2=\"70\" style=\"stroke-width:2\" />\n",
       "  <line x1=\"16\" y1=\"0\" x2=\"86\" y2=\"70\" />\n",
       "  <line x1=\"22\" y1=\"0\" x2=\"92\" y2=\"70\" />\n",
       "  <line x1=\"28\" y1=\"0\" x2=\"98\" y2=\"70\" />\n",
       "  <line x1=\"34\" y1=\"0\" x2=\"105\" y2=\"70\" />\n",
       "  <line x1=\"40\" y1=\"0\" x2=\"111\" y2=\"70\" />\n",
       "  <line x1=\"46\" y1=\"0\" x2=\"117\" y2=\"70\" />\n",
       "  <line x1=\"52\" y1=\"0\" x2=\"123\" y2=\"70\" />\n",
       "  <line x1=\"58\" y1=\"0\" x2=\"129\" y2=\"70\" />\n",
       "  <line x1=\"65\" y1=\"0\" x2=\"135\" y2=\"70\" />\n",
       "  <line x1=\"74\" y1=\"0\" x2=\"144\" y2=\"70\" />\n",
       "  <line x1=\"80\" y1=\"0\" x2=\"150\" y2=\"70\" />\n",
       "  <line x1=\"86\" y1=\"0\" x2=\"157\" y2=\"70\" />\n",
       "  <line x1=\"92\" y1=\"0\" x2=\"163\" y2=\"70\" />\n",
       "  <line x1=\"98\" y1=\"0\" x2=\"169\" y2=\"70\" />\n",
       "  <line x1=\"104\" y1=\"0\" x2=\"175\" y2=\"70\" />\n",
       "  <line x1=\"110\" y1=\"0\" x2=\"181\" y2=\"70\" />\n",
       "  <line x1=\"117\" y1=\"0\" x2=\"187\" y2=\"70\" />\n",
       "  <line x1=\"123\" y1=\"0\" x2=\"193\" y2=\"70\" />\n",
       "  <line x1=\"130\" y1=\"0\" x2=\"200\" y2=\"70\" style=\"stroke-width:2\" />\n",
       "\n",
       "  <!-- Colored Rectangle -->\n",
       "  <polygon points=\"10.0,0.0 130.0,0.0 200.58823529411765,70.58823529411765 80.58823529411765,70.58823529411765\" style=\"fill:#8B4903A0;stroke-width:0\"/>\n",
       "\n",
       "  <!-- Horizontal lines -->\n",
       "  <line x1=\"80\" y1=\"70\" x2=\"200\" y2=\"70\" style=\"stroke-width:2\" />\n",
       "  <line x1=\"80\" y1=\"76\" x2=\"200\" y2=\"76\" />\n",
       "  <line x1=\"80\" y1=\"82\" x2=\"200\" y2=\"82\" />\n",
       "  <line x1=\"80\" y1=\"88\" x2=\"200\" y2=\"88\" />\n",
       "  <line x1=\"80\" y1=\"95\" x2=\"200\" y2=\"95\" />\n",
       "  <line x1=\"80\" y1=\"101\" x2=\"200\" y2=\"101\" />\n",
       "  <line x1=\"80\" y1=\"107\" x2=\"200\" y2=\"107\" />\n",
       "  <line x1=\"80\" y1=\"113\" x2=\"200\" y2=\"113\" />\n",
       "  <line x1=\"80\" y1=\"119\" x2=\"200\" y2=\"119\" />\n",
       "  <line x1=\"80\" y1=\"125\" x2=\"200\" y2=\"125\" />\n",
       "  <line x1=\"80\" y1=\"134\" x2=\"200\" y2=\"134\" />\n",
       "  <line x1=\"80\" y1=\"140\" x2=\"200\" y2=\"140\" />\n",
       "  <line x1=\"80\" y1=\"147\" x2=\"200\" y2=\"147\" />\n",
       "  <line x1=\"80\" y1=\"153\" x2=\"200\" y2=\"153\" />\n",
       "  <line x1=\"80\" y1=\"159\" x2=\"200\" y2=\"159\" />\n",
       "  <line x1=\"80\" y1=\"165\" x2=\"200\" y2=\"165\" />\n",
       "  <line x1=\"80\" y1=\"171\" x2=\"200\" y2=\"171\" />\n",
       "  <line x1=\"80\" y1=\"177\" x2=\"200\" y2=\"177\" />\n",
       "  <line x1=\"80\" y1=\"183\" x2=\"200\" y2=\"183\" />\n",
       "  <line x1=\"80\" y1=\"190\" x2=\"200\" y2=\"190\" style=\"stroke-width:2\" />\n",
       "\n",
       "  <!-- Vertical lines -->\n",
       "  <line x1=\"80\" y1=\"70\" x2=\"80\" y2=\"190\" style=\"stroke-width:2\" />\n",
       "  <line x1=\"86\" y1=\"70\" x2=\"86\" y2=\"190\" />\n",
       "  <line x1=\"92\" y1=\"70\" x2=\"92\" y2=\"190\" />\n",
       "  <line x1=\"98\" y1=\"70\" x2=\"98\" y2=\"190\" />\n",
       "  <line x1=\"105\" y1=\"70\" x2=\"105\" y2=\"190\" />\n",
       "  <line x1=\"111\" y1=\"70\" x2=\"111\" y2=\"190\" />\n",
       "  <line x1=\"117\" y1=\"70\" x2=\"117\" y2=\"190\" />\n",
       "  <line x1=\"123\" y1=\"70\" x2=\"123\" y2=\"190\" />\n",
       "  <line x1=\"129\" y1=\"70\" x2=\"129\" y2=\"190\" />\n",
       "  <line x1=\"135\" y1=\"70\" x2=\"135\" y2=\"190\" />\n",
       "  <line x1=\"144\" y1=\"70\" x2=\"144\" y2=\"190\" />\n",
       "  <line x1=\"150\" y1=\"70\" x2=\"150\" y2=\"190\" />\n",
       "  <line x1=\"157\" y1=\"70\" x2=\"157\" y2=\"190\" />\n",
       "  <line x1=\"163\" y1=\"70\" x2=\"163\" y2=\"190\" />\n",
       "  <line x1=\"169\" y1=\"70\" x2=\"169\" y2=\"190\" />\n",
       "  <line x1=\"175\" y1=\"70\" x2=\"175\" y2=\"190\" />\n",
       "  <line x1=\"181\" y1=\"70\" x2=\"181\" y2=\"190\" />\n",
       "  <line x1=\"187\" y1=\"70\" x2=\"187\" y2=\"190\" />\n",
       "  <line x1=\"193\" y1=\"70\" x2=\"193\" y2=\"190\" />\n",
       "  <line x1=\"200\" y1=\"70\" x2=\"200\" y2=\"190\" style=\"stroke-width:2\" />\n",
       "\n",
       "  <!-- Colored Rectangle -->\n",
       "  <polygon points=\"80.58823529411765,70.58823529411765 200.58823529411765,70.58823529411765 200.58823529411765,190.58823529411765 80.58823529411765,190.58823529411765\" style=\"fill:#8B4903A0;stroke-width:0\"/>\n",
       "\n",
       "  <!-- Text -->\n",
       "  <text x=\"140.588235\" y=\"210.588235\" font-size=\"1.0rem\" font-weight=\"100\" text-anchor=\"middle\" >10000</text>\n",
       "  <text x=\"220.588235\" y=\"130.588235\" font-size=\"1.0rem\" font-weight=\"100\" text-anchor=\"middle\" transform=\"rotate(-90,220.588235,130.588235)\">10000</text>\n",
       "  <text x=\"35.294118\" y=\"175.294118\" font-size=\"1.0rem\" font-weight=\"100\" text-anchor=\"middle\" transform=\"rotate(45,35.294118,175.294118)\">10000</text>\n",
       "</svg>\n",
       "        </td>\n",
       "    </tr>\n",
       "</table>"
      ],
      "text/plain": [
       "dask.array<ones_like, shape=(10000, 10000, 10000), dtype=float64, chunksize=(255, 255, 255), chunktype=numpy.ndarray>"
      ]
     },
     "execution_count": 3,
     "metadata": {},
     "output_type": "execute_result"
    }
   ],
   "source": [
    "# dask attempt\n",
    "\n",
    "temp = da.ones([10000, 10000, 10000])\n",
    "temp"
   ]
  },
  {
   "cell_type": "code",
   "execution_count": 6,
   "metadata": {},
   "outputs": [
    {
     "data": {
      "text/plain": [
       "'/Users/alyssaliu/Desktop/Stats 147/stats-147'"
      ]
     },
     "execution_count": 6,
     "metadata": {},
     "output_type": "execute_result"
    }
   ],
   "source": [
    "import os\n",
    "os.getcwd()"
   ]
  },
  {
   "cell_type": "markdown",
   "metadata": {},
   "source": [
    "# Pandas approach"
   ]
  },
  {
   "cell_type": "markdown",
   "metadata": {},
   "source": [
    "## Reading in data"
   ]
  },
  {
   "cell_type": "code",
   "execution_count": 23,
   "metadata": {},
   "outputs": [
    {
     "data": {
      "text/plain": [
       "130.22506499290466"
      ]
     },
     "execution_count": 23,
     "metadata": {},
     "output_type": "execute_result"
    }
   ],
   "source": [
    "start_time_pd = time.time()\n",
    "df = pd.read_csv('/Users/alyssaliu/Desktop/StatsM148/export.csv') # 1.5 GB file\n",
    "end_time_pd = time.time()\n",
    "pd_duration = end_time_pd - start_time_pd\n",
    "pd_duration"
   ]
  },
  {
   "cell_type": "code",
   "execution_count": 24,
   "metadata": {},
   "outputs": [
    {
     "data": {
      "text/plain": [
       "0.026746749877929688"
      ]
     },
     "execution_count": 24,
     "metadata": {},
     "output_type": "execute_result"
    }
   ],
   "source": [
    "start_time_dask = time.time()\n",
    "ddf = dd.read_csv('/Users/alyssaliu/Desktop/StatsM148/export.csv') # 1.5 GB file\n",
    "end_time_dask = time.time()\n",
    "dask_duration = end_time_dask - start_time_dask\n",
    "dask_duration"
   ]
  },
  {
   "cell_type": "markdown",
   "metadata": {},
   "source": [
    "## Data cleaning"
   ]
  },
  {
   "cell_type": "code",
   "execution_count": 25,
   "metadata": {},
   "outputs": [
    {
     "data": {
      "text/plain": [
       "75.48744297027588"
      ]
     },
     "execution_count": 25,
     "metadata": {},
     "output_type": "execute_result"
    }
   ],
   "source": [
    "start_time_pd = time.time()\n",
    "\n",
    "# some data cleaning\n",
    "df['event_timestamp'] = pd.to_datetime(df['event_timestamp']) # convert to pd datetime\n",
    "df = df[(df['customer_id'] > 0) & (df['account_id'] > 0)]\n",
    "\n",
    "# data aggregation\n",
    "new_df = df.groupby(['customer_id', 'account_id']).agg({'journey_steps_until_end': 'mean'})\n",
    "\n",
    "end_time_pd = time.time()\n",
    "pd_duration = end_time_pd - start_time_pd\n",
    "pd_duration"
   ]
  },
  {
   "cell_type": "code",
   "execution_count": 26,
   "metadata": {},
   "outputs": [
    {
     "data": {
      "text/plain": [
       "14.516909122467041"
      ]
     },
     "execution_count": 26,
     "metadata": {},
     "output_type": "execute_result"
    }
   ],
   "source": [
    "start_time_dask = time.time()\n",
    "\n",
    "# some data cleaning\n",
    "ddf['event_timestamp'] = dd.to_datetime(ddf['event_timestamp']) # convert to dd datetime\n",
    "ddf = ddf[(ddf['customer_id'] > 0) & (ddf['account_id'] > 0)]\n",
    "\n",
    "new_ddf = ddf.groupby(['customer_id', 'account_id']).agg({'journey_steps_until_end': 'mean'})\n",
    "new_ddf = new_ddf.compute() # must call compute to get the result\n",
    "\n",
    "end_time_dask = time.time()\n",
    "dask_duration = end_time_dask - start_time_dask\n",
    "dask_duration"
   ]
  },
  {
   "cell_type": "code",
   "execution_count": 27,
   "metadata": {},
   "outputs": [
    {
     "data": {
      "text/html": [
       "<div>\n",
       "<style scoped>\n",
       "    .dataframe tbody tr th:only-of-type {\n",
       "        vertical-align: middle;\n",
       "    }\n",
       "\n",
       "    .dataframe tbody tr th {\n",
       "        vertical-align: top;\n",
       "    }\n",
       "\n",
       "    .dataframe thead th {\n",
       "        text-align: right;\n",
       "    }\n",
       "</style>\n",
       "<table border=\"1\" class=\"dataframe\">\n",
       "  <thead>\n",
       "    <tr style=\"text-align: right;\">\n",
       "      <th></th>\n",
       "      <th></th>\n",
       "      <th>journey_steps_until_end</th>\n",
       "    </tr>\n",
       "    <tr>\n",
       "      <th>customer_id</th>\n",
       "      <th>account_id</th>\n",
       "      <th></th>\n",
       "    </tr>\n",
       "  </thead>\n",
       "  <tbody>\n",
       "    <tr>\n",
       "      <th rowspan=\"2\" valign=\"top\">708</th>\n",
       "      <th>431368495</th>\n",
       "      <td>16.5</td>\n",
       "    </tr>\n",
       "    <tr>\n",
       "      <th>2101606566</th>\n",
       "      <td>46.0</td>\n",
       "    </tr>\n",
       "    <tr>\n",
       "      <th>3591</th>\n",
       "      <th>940064524</th>\n",
       "      <td>32.0</td>\n",
       "    </tr>\n",
       "    <tr>\n",
       "      <th>8039</th>\n",
       "      <th>1990334874</th>\n",
       "      <td>6.5</td>\n",
       "    </tr>\n",
       "    <tr>\n",
       "      <th>8776</th>\n",
       "      <th>611836958</th>\n",
       "      <td>19.0</td>\n",
       "    </tr>\n",
       "    <tr>\n",
       "      <th>...</th>\n",
       "      <th>...</th>\n",
       "      <td>...</td>\n",
       "    </tr>\n",
       "    <tr>\n",
       "      <th>2147466398</th>\n",
       "      <th>1155335851</th>\n",
       "      <td>5.5</td>\n",
       "    </tr>\n",
       "    <tr>\n",
       "      <th>2147472335</th>\n",
       "      <th>550629877</th>\n",
       "      <td>2.0</td>\n",
       "    </tr>\n",
       "    <tr>\n",
       "      <th>2147478200</th>\n",
       "      <th>223407584</th>\n",
       "      <td>1.5</td>\n",
       "    </tr>\n",
       "    <tr>\n",
       "      <th>2147480920</th>\n",
       "      <th>496493954</th>\n",
       "      <td>59.0</td>\n",
       "    </tr>\n",
       "    <tr>\n",
       "      <th>2147483471</th>\n",
       "      <th>1556733004</th>\n",
       "      <td>7.0</td>\n",
       "    </tr>\n",
       "  </tbody>\n",
       "</table>\n",
       "<p>434142 rows × 1 columns</p>\n",
       "</div>"
      ],
      "text/plain": [
       "                        journey_steps_until_end\n",
       "customer_id account_id                         \n",
       "708         431368495                      16.5\n",
       "            2101606566                     46.0\n",
       "3591        940064524                      32.0\n",
       "8039        1990334874                      6.5\n",
       "8776        611836958                      19.0\n",
       "...                                         ...\n",
       "2147466398  1155335851                      5.5\n",
       "2147472335  550629877                       2.0\n",
       "2147478200  223407584                       1.5\n",
       "2147480920  496493954                      59.0\n",
       "2147483471  1556733004                      7.0\n",
       "\n",
       "[434142 rows x 1 columns]"
      ]
     },
     "execution_count": 27,
     "metadata": {},
     "output_type": "execute_result"
    }
   ],
   "source": [
    "new_df"
   ]
  },
  {
   "cell_type": "code",
   "execution_count": 28,
   "metadata": {},
   "outputs": [
    {
     "data": {
      "text/html": [
       "<div>\n",
       "<style scoped>\n",
       "    .dataframe tbody tr th:only-of-type {\n",
       "        vertical-align: middle;\n",
       "    }\n",
       "\n",
       "    .dataframe tbody tr th {\n",
       "        vertical-align: top;\n",
       "    }\n",
       "\n",
       "    .dataframe thead th {\n",
       "        text-align: right;\n",
       "    }\n",
       "</style>\n",
       "<table border=\"1\" class=\"dataframe\">\n",
       "  <thead>\n",
       "    <tr style=\"text-align: right;\">\n",
       "      <th></th>\n",
       "      <th></th>\n",
       "      <th>journey_steps_until_end</th>\n",
       "    </tr>\n",
       "    <tr>\n",
       "      <th>customer_id</th>\n",
       "      <th>account_id</th>\n",
       "      <th></th>\n",
       "    </tr>\n",
       "  </thead>\n",
       "  <tbody>\n",
       "    <tr>\n",
       "      <th>2119402500</th>\n",
       "      <th>900588489</th>\n",
       "      <td>7.0</td>\n",
       "    </tr>\n",
       "    <tr>\n",
       "      <th>1937664540</th>\n",
       "      <th>1548695092</th>\n",
       "      <td>22.0</td>\n",
       "    </tr>\n",
       "    <tr>\n",
       "      <th>293772960</th>\n",
       "      <th>1074523090</th>\n",
       "      <td>5.5</td>\n",
       "    </tr>\n",
       "    <tr>\n",
       "      <th>1203964937</th>\n",
       "      <th>646675025</th>\n",
       "      <td>4.5</td>\n",
       "    </tr>\n",
       "    <tr>\n",
       "      <th>1621312620</th>\n",
       "      <th>515646756</th>\n",
       "      <td>24.0</td>\n",
       "    </tr>\n",
       "    <tr>\n",
       "      <th>...</th>\n",
       "      <th>...</th>\n",
       "      <td>...</td>\n",
       "    </tr>\n",
       "    <tr>\n",
       "      <th>1451037560</th>\n",
       "      <th>1067445904</th>\n",
       "      <td>1.0</td>\n",
       "    </tr>\n",
       "    <tr>\n",
       "      <th>1239687495</th>\n",
       "      <th>1786511163</th>\n",
       "      <td>90.5</td>\n",
       "    </tr>\n",
       "    <tr>\n",
       "      <th>1481279844</th>\n",
       "      <th>1421347604</th>\n",
       "      <td>93.5</td>\n",
       "    </tr>\n",
       "    <tr>\n",
       "      <th>791509160</th>\n",
       "      <th>1589607168</th>\n",
       "      <td>1.5</td>\n",
       "    </tr>\n",
       "    <tr>\n",
       "      <th>1813819171</th>\n",
       "      <th>1450725754</th>\n",
       "      <td>2.5</td>\n",
       "    </tr>\n",
       "  </tbody>\n",
       "</table>\n",
       "<p>434142 rows × 1 columns</p>\n",
       "</div>"
      ],
      "text/plain": [
       "                        journey_steps_until_end\n",
       "customer_id account_id                         \n",
       "2119402500  900588489                       7.0\n",
       "1937664540  1548695092                     22.0\n",
       "293772960   1074523090                      5.5\n",
       "1203964937  646675025                       4.5\n",
       "1621312620  515646756                      24.0\n",
       "...                                         ...\n",
       "1451037560  1067445904                      1.0\n",
       "1239687495  1786511163                     90.5\n",
       "1481279844  1421347604                     93.5\n",
       "791509160   1589607168                      1.5\n",
       "1813819171  1450725754                      2.5\n",
       "\n",
       "[434142 rows x 1 columns]"
      ]
     },
     "execution_count": 28,
     "metadata": {},
     "output_type": "execute_result"
    }
   ],
   "source": [
    "new_ddf"
   ]
  },
  {
   "cell_type": "code",
   "execution_count": null,
   "metadata": {},
   "outputs": [],
   "source": []
  }
 ],
 "metadata": {
  "kernelspec": {
   "display_name": "Python 3",
   "language": "python",
   "name": "python3"
  },
  "language_info": {
   "codemirror_mode": {
    "name": "ipython",
    "version": 3
   },
   "file_extension": ".py",
   "mimetype": "text/x-python",
   "name": "python",
   "nbconvert_exporter": "python",
   "pygments_lexer": "ipython3",
   "version": "3.11.8"
  }
 },
 "nbformat": 4,
 "nbformat_minor": 2
}
