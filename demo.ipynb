{
 "cells": [
  {
   "cell_type": "code",
   "execution_count": 1,
   "metadata": {},
   "outputs": [],
   "source": [
    "import torch\n",
    "import torch.nn as nn\n",
    "import torch.optim as optim\n",
    "from torch.utils.data import DataLoader\n",
    "from torchvision import datasets, transforms"
   ]
  },
  {
   "cell_type": "code",
   "execution_count": 2,
   "metadata": {},
   "outputs": [],
   "source": [
    "# the input and output dimensions are specific to the MNIST dataset\n",
    "# hidden size arbitrary - can tune this\n",
    "input_size = 28 * 28 # input size of image\n",
    "hidden_size = 512\n",
    "output_size = 10 # number of MNIST classes\n",
    "\n",
    "\n",
    "class NeuralNetwork(nn.Module):\n",
    "    def __init__(self, input_size, hidden_size, output_size):\n",
    "        super(NeuralNetwork, self).__init__()\n",
    "        self.flatten = nn.Flatten() # turn input into 2D tensor\n",
    "        self.layer1 = nn.Linear(input_size, hidden_size)  # first linear layer\n",
    "        self.relu = nn.ReLU() # ReLU activation function\n",
    "        self.dropout = nn.Dropout(0.5)  # dropout 50% of network\n",
    "        self.layer2 = nn.Linear(hidden_size, output_size)  # second linear layer\n",
    "\n",
    "    def forward(self, x):\n",
    "        x = self.flatten(x)\n",
    "        x = self.layer1(x)\n",
    "        x = self.relu(x)\n",
    "        x = self.dropout(x)  # Apply dropout\n",
    "        x = self.layer2(x)\n",
    "        return x"
   ]
  },
  {
   "cell_type": "code",
   "execution_count": 3,
   "metadata": {},
   "outputs": [],
   "source": [
    "model = NeuralNetwork(input_size, hidden_size, output_size)\n",
    "# common loss function for classification\n",
    "criterion = nn.CrossEntropyLoss() # essentially returns mean loss per sample in batch\n",
    "# stochastic gradient descent\n",
    "optimizer = optim.SGD(model.parameters(), lr=0.01, momentum=0.9) # learning rate and momentum can be tuned"
   ]
  },
  {
   "cell_type": "code",
   "execution_count": 4,
   "metadata": {},
   "outputs": [],
   "source": [
    "# convert images to tensors and normalize\n",
    "transform = transforms.Compose([\n",
    "    transforms.ToTensor(),\n",
    "    transforms.Normalize((0.5,), (0.5,))  # Normalize to [-1, 1]\n",
    "])\n",
    "\n",
    "# training set\n",
    "train = datasets.MNIST(root='./data', train = True, download = True, transform = transform)\n",
    "# testing set\n",
    "test = datasets.MNIST(root='./data', train = False, download = True, transform = transform)\n",
    "\n",
    "# batch size is number of images to process at once\n",
    "batch_size = 64\n",
    "train_loader = DataLoader(train, batch_size = batch_size, shuffle=True)\n",
    "test_loader = DataLoader(test, batch_size = batch_size, shuffle=False)\n"
   ]
  },
  {
   "cell_type": "code",
   "execution_count": 7,
   "metadata": {},
   "outputs": [
    {
     "name": "stdout",
     "output_type": "stream",
     "text": [
      "Epoch: 0, Avg Loss: 0.003855354121762017\n",
      "Epoch: 0, Accuracy: 0.9518\n",
      "Epoch: 1, Avg Loss: 0.0029968325522417823\n",
      "Epoch: 1, Accuracy: 0.9579\n",
      "Epoch: 2, Avg Loss: 0.0025862598524428906\n",
      "Epoch: 2, Accuracy: 0.9657\n",
      "Epoch: 3, Avg Loss: 0.002258502740599215\n",
      "Epoch: 3, Accuracy: 0.9709\n",
      "Epoch: 4, Avg Loss: 0.0020669390969599286\n",
      "Epoch: 4, Accuracy: 0.9698\n",
      "Epoch: 5, Avg Loss: 0.0019490503437196215\n",
      "Epoch: 5, Accuracy: 0.9739\n",
      "Epoch: 6, Avg Loss: 0.0017481244168166693\n",
      "Epoch: 6, Accuracy: 0.9737\n",
      "Epoch: 7, Avg Loss: 0.0016325693994139632\n",
      "Epoch: 7, Accuracy: 0.977\n",
      "Epoch: 8, Avg Loss: 0.0015399657093376543\n",
      "Epoch: 8, Accuracy: 0.9764\n",
      "Epoch: 9, Avg Loss: 0.0014834081544385601\n",
      "Epoch: 9, Accuracy: 0.9786\n"
     ]
    }
   ],
   "source": [
    "# training\n",
    "for epoch in range(5): # num of iterations over training set\n",
    "    model.train()\n",
    "    cum_loss = 0\n",
    "    num_samples = 0\n",
    "    for input, target in train_loader:\n",
    "        # zero the parameter gradients\n",
    "        optimizer.zero_grad()\n",
    "\n",
    "        # forward pass\n",
    "        output = model(input)\n",
    "        loss = criterion(output, target)\n",
    "\n",
    "        # backward pass + updates\n",
    "        loss.backward()\n",
    "        optimizer.step()\n",
    "\n",
    "        # keep track of cumulative loss and num samples from batches\n",
    "        cum_loss += loss.item()\n",
    "        num_samples += input.size(0)\n",
    "\n",
    "    avg_loss = cum_loss / num_samples\n",
    "    print(f\"Epoch: {epoch}, Avg Loss: {avg_loss}\")\n",
    "\n",
    "    # validation after each epoch\n",
    "    model.eval()\n",
    "    total, correct = 0, 0\n",
    "    with torch.no_grad():\n",
    "        for input, target in test_loader:\n",
    "            output = model(input)\n",
    "            _, predicted = torch.max(output.data, 1) # obtain max for class\n",
    "            total += target.size(0) # add batch size\n",
    "            correct += (predicted == target).sum().item() # add number of correct predictions\n",
    "\n",
    "    accuracy = correct / total \n",
    "    print(f\"Epoch: {epoch}, Accuracy: {accuracy}\")"
   ]
  },
  {
   "cell_type": "code",
   "execution_count": null,
   "metadata": {},
   "outputs": [],
   "source": []
  }
 ],
 "metadata": {
  "kernelspec": {
   "display_name": "Python 3",
   "language": "python",
   "name": "python3"
  },
  "language_info": {
   "codemirror_mode": {
    "name": "ipython",
    "version": 3
   },
   "file_extension": ".py",
   "mimetype": "text/x-python",
   "name": "python",
   "nbconvert_exporter": "python",
   "pygments_lexer": "ipython3",
   "version": "3.11.8"
  }
 },
 "nbformat": 4,
 "nbformat_minor": 2
}
